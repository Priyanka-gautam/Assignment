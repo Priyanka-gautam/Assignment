{
  "nbformat": 4,
  "nbformat_minor": 0,
  "metadata": {
    "colab": {
      "provenance": []
    },
    "kernelspec": {
      "name": "python3",
      "display_name": "Python 3"
    },
    "language_info": {
      "name": "python"
    }
  },
  "cells": [
    {
      "cell_type": "code",
      "execution_count": 1,
      "metadata": {
        "id": "UldFWtaIuDXg"
      },
      "outputs": [],
      "source": [
        "# Import required libraries\n",
        "import pandas as pd\n",
        "import numpy as np\n",
        "from sklearn.metrics.pairwise import cosine_similarity\n",
        "from sklearn.preprocessing import StandardScaler\n",
        "from sklearn.decomposition import PCA"
      ]
    },
    {
      "cell_type": "markdown",
      "source": [
        "load the data set"
      ],
      "metadata": {
        "id": "rI94mU_VvX93"
      }
    },
    {
      "cell_type": "code",
      "source": [
        "# Load the datasets\n",
        "customers = pd.read_csv('/content/Customers.csv')\n",
        "products= pd.read_csv('/content/Products.csv')\n",
        "transactions = pd.read_csv('/content/Transactions.csv')"
      ],
      "metadata": {
        "id": "j7eB8UJLu7Hj"
      },
      "execution_count": 2,
      "outputs": []
    },
    {
      "cell_type": "markdown",
      "source": [
        "Data Preprocessing"
      ],
      "metadata": {
        "id": "3Dd8jxFSvVh3"
      }
    },
    {
      "cell_type": "code",
      "source": [
        "# Merge datasets to create a comprehensive dataset\n",
        "#df = pd.merge(transactions, customers, on='CustomerID', how='left')\n",
        "#df = pd.merge(df, products, on='ProductID', how='left')\n",
        "#print(df)\n",
        "# Merge datasets to create a comprehensive dataset\n",
        "df = pd.merge(transactions, customers[['CustomerID', 'Region']], on='CustomerID', how='left')\n",
        "df = pd.merge(df, products, on='ProductID', how='left')\n",
        "print(df)"
      ],
      "metadata": {
        "colab": {
          "base_uri": "https://localhost:8080/"
        },
        "id": "5lOb7sMQvPcT",
        "outputId": "29acdc71-d522-4d76-dff0-9c3bc697c5a4"
      },
      "execution_count": 22,
      "outputs": [
        {
          "output_type": "stream",
          "name": "stdout",
          "text": [
            "    TransactionID CustomerID ProductID      TransactionDate  Quantity  \\\n",
            "0          T00001      C0199      P067  2024-08-25 12:38:23         1   \n",
            "1          T00112      C0146      P067  2024-05-27 22:23:54         1   \n",
            "2          T00166      C0127      P067  2024-04-25 07:38:55         1   \n",
            "3          T00272      C0087      P067  2024-03-26 22:55:37         2   \n",
            "4          T00363      C0070      P067  2024-03-21 15:10:10         3   \n",
            "..            ...        ...       ...                  ...       ...   \n",
            "995        T00496      C0118      P037  2024-10-24 08:30:27         1   \n",
            "996        T00759      C0059      P037  2024-06-04 02:15:24         3   \n",
            "997        T00922      C0018      P037  2024-04-05 13:05:32         4   \n",
            "998        T00959      C0115      P037  2024-09-29 10:16:02         2   \n",
            "999        T00992      C0024      P037  2024-04-21 10:52:24         1   \n",
            "\n",
            "     TotalValue  Price_x         Region                      ProductName  \\\n",
            "0        300.68   300.68         Europe  ComfortLiving Bluetooth Speaker   \n",
            "1        300.68   300.68           Asia  ComfortLiving Bluetooth Speaker   \n",
            "2        300.68   300.68         Europe  ComfortLiving Bluetooth Speaker   \n",
            "3        601.36   300.68  South America  ComfortLiving Bluetooth Speaker   \n",
            "4        902.04   300.68         Europe  ComfortLiving Bluetooth Speaker   \n",
            "..          ...      ...            ...                              ...   \n",
            "995      459.86   459.86  South America             SoundWave Smartwatch   \n",
            "996     1379.58   459.86  North America             SoundWave Smartwatch   \n",
            "997     1839.44   459.86  North America             SoundWave Smartwatch   \n",
            "998      919.72   459.86           Asia             SoundWave Smartwatch   \n",
            "999      459.86   459.86  North America             SoundWave Smartwatch   \n",
            "\n",
            "        Category  Price_y  \n",
            "0    Electronics   300.68  \n",
            "1    Electronics   300.68  \n",
            "2    Electronics   300.68  \n",
            "3    Electronics   300.68  \n",
            "4    Electronics   300.68  \n",
            "..           ...      ...  \n",
            "995  Electronics   459.86  \n",
            "996  Electronics   459.86  \n",
            "997  Electronics   459.86  \n",
            "998  Electronics   459.86  \n",
            "999  Electronics   459.86  \n",
            "\n",
            "[1000 rows x 11 columns]\n"
          ]
        }
      ]
    },
    {
      "cell_type": "code",
      "source": [
        "# Aggregate transaction features for each customer\n",
        "customer_features = df.groupby('CustomerID').agg(\n",
        "    total_spend=('TotalValue', 'sum'),\n",
        "    avg_transaction_value=('TotalValue', 'mean'),\n",
        "    transaction_count=('TransactionID', 'count'),\n",
        "    product_diversity=('ProductID', 'nunique'),\n",
        "    region=('Region', 'first')  # Include region as a categorical feature\n",
        ").reset_index()\n",
        "print(customer_features)"
      ],
      "metadata": {
        "colab": {
          "base_uri": "https://localhost:8080/"
        },
        "id": "BIyRp4rOvkWk",
        "outputId": "e512d068-3dd2-4f2a-cf65-48eeb551a2ad"
      },
      "execution_count": 23,
      "outputs": [
        {
          "output_type": "stream",
          "name": "stdout",
          "text": [
            "    CustomerID  total_spend  avg_transaction_value  transaction_count  \\\n",
            "0        C0001      3354.52             670.904000                  5   \n",
            "1        C0002      1862.74             465.685000                  4   \n",
            "2        C0003      2725.38             681.345000                  4   \n",
            "3        C0004      5354.88             669.360000                  8   \n",
            "4        C0005      2034.24             678.080000                  3   \n",
            "..         ...          ...                    ...                ...   \n",
            "194      C0196      4982.88            1245.720000                  4   \n",
            "195      C0197      1928.65             642.883333                  3   \n",
            "196      C0198       931.83             465.915000                  2   \n",
            "197      C0199      1979.28             494.820000                  4   \n",
            "198      C0200      4758.60             951.720000                  5   \n",
            "\n",
            "     product_diversity         region  \n",
            "0                    5  South America  \n",
            "1                    4           Asia  \n",
            "2                    4  South America  \n",
            "3                    8  South America  \n",
            "4                    3           Asia  \n",
            "..                 ...            ...  \n",
            "194                  3         Europe  \n",
            "195                  3         Europe  \n",
            "196                  2         Europe  \n",
            "197                  4         Europe  \n",
            "198                  5           Asia  \n",
            "\n",
            "[199 rows x 6 columns]\n"
          ]
        }
      ]
    },
    {
      "cell_type": "code",
      "source": [
        "# One-hot encode categorical features\n",
        "customer_features = pd.get_dummies(customer_features, columns=['region'])"
      ],
      "metadata": {
        "id": "u76UJeOP2Grp"
      },
      "execution_count": null,
      "outputs": []
    },
    {
      "cell_type": "code",
      "source": [
        " #Feature Scaling\n",
        "scaler = StandardScaler()\n",
        "scaled_features = scaler.fit_transform(customer_features.drop(columns=['CustomerID']))\n"
      ],
      "metadata": {
        "id": "O4oq8gce32vi"
      },
      "execution_count": 27,
      "outputs": []
    },
    {
      "cell_type": "code",
      "source": [
        "# Compute Cosine Similarity\n",
        "similarity_matrix = cosine_similarity(scaled_features)"
      ],
      "metadata": {
        "id": "VDCUxx9F4JfW"
      },
      "execution_count": 28,
      "outputs": []
    },
    {
      "cell_type": "code",
      "source": [
        "# Create a lookalike map for the first 20 customers\n",
        "lookalike_map = {}\n",
        "for i in range(20):  # For CustomerIDs C0001 - C0020\n",
        "    customer_id = customer_features.iloc[i]['CustomerID']\n",
        "    similarity_scores = list(enumerate(similarity_matrix[i]))\n",
        "    # Sort by similarity score in descending order (excluding the customer itself)\n",
        "    similar_customers = sorted(similarity_scores, key=lambda x: x[1], reverse=True)[1:4]\n",
        "    # Get top 3 similar customers with their similarity scores\n",
        "    lookalike_map[customer_id] = [(customer_features.iloc[j[0]]['CustomerID'], j[1]) for j in similar_customers]\n"
      ],
      "metadata": {
        "id": "Sk36212E4Lja"
      },
      "execution_count": 44,
      "outputs": []
    },
    {
      "cell_type": "code",
      "source": [
        "# Convert the lookalike_map to a DataFrame\n",
        "lookalike_data = []\n",
        "\n",
        "# Populate the list with structured data\n",
        "for customer_id, lookalikes in lookalike_map.items():\n",
        "    for similar_customer, score in lookalikes:\n",
        "        lookalike_data.append({\n",
        "            'CustomerID': customer_id,\n",
        "            'SimilarCustomerID': similar_customer,\n",
        "            'SimilarityScore': score\n",
        "        })\n"
      ],
      "metadata": {
        "id": "AK76okcp5w7Y"
      },
      "execution_count": 40,
      "outputs": []
    },
    {
      "cell_type": "code",
      "source": [
        "# Create a DataFrame from the structured data\n",
        "lookalike_df = pd.DataFrame(lookalike_data)\n"
      ],
      "metadata": {
        "id": "gzEkvzhQ5zni"
      },
      "execution_count": 41,
      "outputs": []
    },
    {
      "cell_type": "code",
      "source": [
        "# Save the DataFrame to a CSV file\n",
        "lookalike_df.to_csv('Lookalike.csv', index=False)"
      ],
      "metadata": {
        "id": "RkD4ylBZ574c"
      },
      "execution_count": 42,
      "outputs": []
    },
    {
      "cell_type": "code",
      "source": [
        "# Print a success message\n",
        "print(\"Lookalike.csv has been successfully saved!\")"
      ],
      "metadata": {
        "colab": {
          "base_uri": "https://localhost:8080/"
        },
        "id": "hldjhGhO5_xH",
        "outputId": "1ac6344b-a89d-4d1d-9781-e69c1a415c68"
      },
      "execution_count": 43,
      "outputs": [
        {
          "output_type": "stream",
          "name": "stdout",
          "text": [
            "Lookalike.csv has been successfully saved!\n"
          ]
        }
      ]
    }
  ]
}